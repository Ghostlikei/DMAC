{
 "cells": [
  {
   "cell_type": "code",
   "execution_count": 2,
   "metadata": {},
   "outputs": [
    {
     "name": "stdout",
     "output_type": "stream",
     "text": [
      "considering this was shot in 1972 the video quality is excellent 4 3 nice sharp close up images with longer shots a little muddled as to be expected with only a few spotlights running during the show audio is in its original stereo and sounds ok to pretty good the performance is stellar but a little short 64 minutes it s got a really cool trippy film section about half way through far out if you like the music of traffic get it while you can\n"
     ]
    }
   ],
   "source": [
    "import re\n",
    "\n",
    "def preprocess_text(text):\n",
    "    # Convert text to lowercase\n",
    "    text = text.lower()\n",
    "    \n",
    "    # Split text into words and remove non-alphanumeric characters\n",
    "    words = re.findall(r'\\b\\w+\\b', text)\n",
    "\n",
    "    # Join the words back into a single string\n",
    "    processed_text = ' '.join(words)\n",
    "\n",
    "    return processed_text\n",
    "\n",
    "# Example input text\n",
    "input_text = \"Considering this was shot in 1972 the video quality is excellent (4:3). Nice sharp (close-up) images with longer shots a little muddled as to be expected with only a few spotlights running during the show. Audio is in its original stereo and sounds OK to pretty good. The performance is stellar but a little short (64 Minutes). It's got a really cool trippy film section about half way through. Far-out. If you like the music of Traffic - get it while you can.\"\n",
    "\n",
    "# Preprocess the text\n",
    "processed_text = preprocess_text(input_text)\n",
    "\n",
    "# Print the preprocessed text\n",
    "print(processed_text)\n"
   ]
  }
 ],
 "metadata": {
  "kernelspec": {
   "display_name": "nlp",
   "language": "python",
   "name": "python3"
  },
  "language_info": {
   "codemirror_mode": {
    "name": "ipython",
    "version": 3
   },
   "file_extension": ".py",
   "mimetype": "text/x-python",
   "name": "python",
   "nbconvert_exporter": "python",
   "pygments_lexer": "ipython3",
   "version": "3.11.4"
  },
  "orig_nbformat": 4
 },
 "nbformat": 4,
 "nbformat_minor": 2
}
