{
 "cells": [
  {
   "cell_type": "code",
   "execution_count": 3,
   "metadata": {},
   "outputs": [
    {
     "name": "stdout",
     "output_type": "stream",
     "text": [
      "/Users/shenqingyun/Desktop/git_repository/DMAC/dmac/playground\n"
     ]
    }
   ],
   "source": [
    "!pwd"
   ]
  },
  {
   "cell_type": "code",
   "execution_count": 29,
   "metadata": {},
   "outputs": [
    {
     "name": "stdout",
     "output_type": "stream",
     "text": [
      "Load complete\n",
      "{'label': 0, 'raw': \"I only watched the Wanda Sykes portion of this show. I think it was interesting to watch because it was before she came out as a lesbian. She was married to a man at the time. She actually made some jokes that raised my eyebrows since she is now a lesbian. I didn't like this because it seemed hypocritical but I think Wanda Sykes is really funny. She is one of the few comedians who can make me really LOL (Laugh Out Loud). If you want to see what her comedy was like before she came out a lesbian or you are a Wanda Sykes fan, watch it. I am a huge fan of hers. I would like to see her in a live how. I am glad she is true to herself now and came out as a lesbian. I hope Wanda keeps on making me and others laugh for a long time to come.\"}\n"
     ]
    }
   ],
   "source": [
    "import json\n",
    "import numpy as np\n",
    "from sklearn.model_selection import KFold\n",
    "from sklearn.multioutput import MultiOutputClassifier\n",
    "from sklearn.svm import SVC\n",
    "from sklearn.metrics import accuracy_score\n",
    "from gensim.models import Word2Vec\n",
    "from sklearn.preprocessing import MultiLabelBinarizer\n",
    "\n",
    "# Load the data\n",
    "data = []\n",
    "with open('../../data/exp1_data/train_data.txt', 'r') as file:\n",
    "    for line in file:\n",
    "        item = json.loads(line)\n",
    "        data.append(item)\n",
    "\n",
    "print(\"Load complete\")\n",
    "print(data[0])"
   ]
  },
  {
   "cell_type": "code",
   "execution_count": 65,
   "metadata": {},
   "outputs": [
    {
     "name": "stdout",
     "output_type": "stream",
     "text": [
      "156\n"
     ]
    }
   ],
   "source": [
    "# Split data into labels and raw text\n",
    "labels = [item[\"label\"] for item in data]\n",
    "texts = [item[\"raw\"] for item in data]\n",
    "\n",
    "# Word Embedding using Gensim Word2Vec\n",
    "# You may need to preprocess and tokenize the text before training the Word2Vec model.\n",
    "# Here, we'll assume simple whitespace-based tokenization.\n",
    "tokenized_texts = [text.split() for text in texts]\n",
    "print(len(tokenized_texts[0]))\n",
    "embedding_model = Word2Vec(sentences=tokenized_texts, vector_size=100, window=5, min_count=1, sg=0)"
   ]
  },
  {
   "cell_type": "code",
   "execution_count": 60,
   "metadata": {},
   "outputs": [],
   "source": [
    "# Function to convert text to a vector representation using Word Embeddings\n",
    "def text_to_vector(text, model):\n",
    "    words = text.split()\n",
    "    # Aggregate word vectors (skip words not in the vocabulary)\n",
    "    word_vectors = [model.wv[word] for word in words if word in model.wv]\n",
    "    if len(word_vectors) > 0:\n",
    "        return np.mean(word_vectors, axis=0)\n",
    "    else:\n",
    "        return np.zeros(model.vector_size)\n",
    "\n",
    "# train_data = [data[0], data[1]]\n",
    "# res = np.array([text_to_vector(item[\"raw\"], embedding_model) for item in train_data])\n",
    "# print(res)"
   ]
  },
  {
   "cell_type": "code",
   "execution_count": 64,
   "metadata": {},
   "outputs": [
    {
     "name": "stdout",
     "output_type": "stream",
     "text": [
      "[3 4 0 ... 9 9 9]\n",
      "[4 1 9 ... 9 6 9]\n",
      "[1 9 1 ... 9 9 9]\n",
      "[4 6 3 ... 0 9 9]\n",
      "[5 1 1 ... 7 9 0]\n",
      "Mean Accuracy: 0.37\n"
     ]
    }
   ],
   "source": [
    "# Create a binary label representation using MultiLabelBinarizer\n",
    "# mlb = MultiLabelBinarizer()\n",
    "# binary_labels = mlb.fit_transform([[label] for label in labels])\n",
    "\n",
    "# Perform 5-fold cross-validation\n",
    "kf = KFold(n_splits=5, shuffle=True, random_state=42)\n",
    "accuracies = []\n",
    "\n",
    "for train_idx, dev_idx in kf.split(data):\n",
    "    # Split data into training and development sets\n",
    "    train_data = [data[i] for i in train_idx]\n",
    "    dev_data = [data[i] for i in dev_idx]\n",
    "\n",
    "    train_label = [labels[idx] for idx in train_idx]\n",
    "\n",
    "    dev_label = [labels[idx] for idx in dev_idx]\n",
    "\n",
    "    # Convert text data to word vectors\n",
    "    train_vectors = np.array([text_to_vector(item[\"raw\"], embedding_model) for item in train_data])\n",
    "    # print(train_vectors[0])\n",
    "    dev_vectors = np.array([text_to_vector(item[\"raw\"], embedding_model) for item in dev_data])\n",
    "\n",
    "    assert len(train_label) == len(train_vectors)\n",
    "    assert len(dev_label) == len(dev_vectors)\n",
    "\n",
    "    # Train a multilabel SVM classifier with Gaussian kernel\n",
    "    clf = SVC(kernel='rbf', C=1.0, gamma=\"scale\")\n",
    "    clf.fit(train_vectors, train_label)\n",
    "    # clf.fit(train_vectors, binary_labels[train_idx])\n",
    "\n",
    "    # Make predictions on the development set\n",
    "    dev_predictions = clf.predict(dev_vectors)\n",
    "    print(dev_predictions)\n",
    "\n",
    "    # Calculate accuracy and store it\n",
    "    accuracy = accuracy_score(dev_label, dev_predictions)\n",
    "    accuracies.append(accuracy)\n",
    "\n",
    "# Calculate and print the mean accuracy across folds\n",
    "mean_accuracy = np.mean(accuracies)\n",
    "print(f\"Mean Accuracy: {mean_accuracy:.2f}\")\n"
   ]
  },
  {
   "attachments": {},
   "cell_type": "markdown",
   "metadata": {},
   "source": [
    "Yep that works. Lets tune the hyperparams and test polynomial and RBF kernels in the main code"
   ]
  }
 ],
 "metadata": {
  "kernelspec": {
   "display_name": "nlp",
   "language": "python",
   "name": "python3"
  },
  "language_info": {
   "codemirror_mode": {
    "name": "ipython",
    "version": 3
   },
   "file_extension": ".py",
   "mimetype": "text/x-python",
   "name": "python",
   "nbconvert_exporter": "python",
   "pygments_lexer": "ipython3",
   "version": "3.11.4"
  },
  "orig_nbformat": 4
 },
 "nbformat": 4,
 "nbformat_minor": 2
}
