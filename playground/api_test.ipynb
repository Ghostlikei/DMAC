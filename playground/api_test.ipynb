{
 "cells": [
  {
   "cell_type": "code",
   "execution_count": 1,
   "metadata": {},
   "outputs": [],
   "source": [
    "import os\n",
    "os.chdir(\"..\")"
   ]
  },
  {
   "attachments": {},
   "cell_type": "markdown",
   "metadata": {},
   "source": [
    "The dir should be `/DMAC/`"
   ]
  },
  {
   "cell_type": "code",
   "execution_count": 2,
   "metadata": {},
   "outputs": [],
   "source": [
    "from dmac.io.loader import Project1Loader\n",
    "from dmac.embedding.word2vec import W2V_Wrapper\n",
    "from dmac.model.svm import SVM\n",
    "from dmac.data.hyperparams import *\n",
    "from dmac.test.kfold import KFoldTest"
   ]
  },
  {
   "cell_type": "code",
   "execution_count": 3,
   "metadata": {},
   "outputs": [
    {
     "name": "stdout",
     "output_type": "stream",
     "text": [
      "Load complete, Data[0]: \n",
      "{'label': 0, 'raw': \"I only watched the Wanda Sykes portion of this show. I think it was interesting to watch because it was before she came out as a lesbian. She was married to a man at the time. She actually made some jokes that raised my eyebrows since she is now a lesbian. I didn't like this because it seemed hypocritical but I think Wanda Sykes is really funny. She is one of the few comedians who can make me really LOL (Laugh Out Loud). If you want to see what her comedy was like before she came out a lesbian or you are a Wanda Sykes fan, watch it. I am a huge fan of hers. I would like to see her in a live how. I am glad she is true to herself now and came out as a lesbian. I hope Wanda keeps on making me and others laugh for a long time to come.\"}\n"
     ]
    }
   ],
   "source": [
    "path = \"data/exp1_data/train_data.txt\"\n",
    "\n",
    "ld = Project1Loader()\n",
    "data = ld.load(path)"
   ]
  },
  {
   "cell_type": "code",
   "execution_count": 4,
   "metadata": {},
   "outputs": [
    {
     "name": "stdout",
     "output_type": "stream",
     "text": [
      "156\n"
     ]
    }
   ],
   "source": [
    "labels = [item[\"label\"] for item in data]\n",
    "texts = [item[\"raw\"] for item in data]\n",
    "\n",
    "tokenized_texts = [text.split() for text in texts]\n",
    "print(len(tokenized_texts[0]))\n",
    "\n",
    "word2vec_hp = Word2VecHP()\n",
    "embedding_model = W2V_Wrapper(input_sentence=tokenized_texts, params=word2vec_hp)"
   ]
  },
  {
   "attachments": {},
   "cell_type": "markdown",
   "metadata": {},
   "source": [
    "- Testing Kfold API, SVM and ABCModel API"
   ]
  },
  {
   "cell_type": "code",
   "execution_count": 5,
   "metadata": {},
   "outputs": [],
   "source": [
    "svm_rbf_hp = SVM_RBF_HP()\n",
    "svm_rbf = SVM(svm_rbf_hp)"
   ]
  },
  {
   "cell_type": "code",
   "execution_count": 11,
   "metadata": {},
   "outputs": [
    {
     "ename": "KeyError",
     "evalue": "'data'",
     "output_type": "error",
     "traceback": [
      "\u001b[0;31m---------------------------------------------------------------------------\u001b[0m",
      "\u001b[0;31mKeyError\u001b[0m                                  Traceback (most recent call last)",
      "Cell \u001b[0;32mIn[11], line 2\u001b[0m\n\u001b[1;32m      1\u001b[0m svm_kftest \u001b[39m=\u001b[39m KFoldTest(embedding_model\u001b[39m=\u001b[39membedding_model, classify_model\u001b[39m=\u001b[39msvm_rbf)\n\u001b[0;32m----> 2\u001b[0m svm_kftest\u001b[39m.\u001b[39;49mrun(data)\n",
      "File \u001b[0;32m~/Desktop/git_repository/DMAC/dmac/test/kfold.py:30\u001b[0m, in \u001b[0;36mKFoldTest.run\u001b[0;34m(self, data)\u001b[0m\n\u001b[1;32m     27\u001b[0m dev_label \u001b[39m=\u001b[39m [labels[idx] \u001b[39mfor\u001b[39;00m idx \u001b[39min\u001b[39;00m dev_idx]\n\u001b[1;32m     29\u001b[0m \u001b[39m# Convert text data to word vectors\u001b[39;00m\n\u001b[0;32m---> 30\u001b[0m train_vectors \u001b[39m=\u001b[39m np\u001b[39m.\u001b[39marray([\u001b[39mself\u001b[39;49m\u001b[39m.\u001b[39;49membedding_model\u001b[39m.\u001b[39;49mtext_to_vector(item[\u001b[39m\"\u001b[39;49m\u001b[39mdata\u001b[39;49m\u001b[39m\"\u001b[39;49m]) \u001b[39mfor\u001b[39;49;00m item \u001b[39min\u001b[39;49;00m train_data])\n\u001b[1;32m     31\u001b[0m \u001b[39mprint\u001b[39m(train_vectors[\u001b[39m0\u001b[39m])\n\u001b[1;32m     32\u001b[0m dev_vectors \u001b[39m=\u001b[39m np\u001b[39m.\u001b[39marray([\u001b[39mself\u001b[39m\u001b[39m.\u001b[39membedding_model\u001b[39m.\u001b[39mtext_to_vector(item[\u001b[39m\"\u001b[39m\u001b[39mdata\u001b[39m\u001b[39m\"\u001b[39m]) \u001b[39mfor\u001b[39;00m item \u001b[39min\u001b[39;00m dev_data])\n",
      "File \u001b[0;32m~/Desktop/git_repository/DMAC/dmac/test/kfold.py:30\u001b[0m, in \u001b[0;36m<listcomp>\u001b[0;34m(.0)\u001b[0m\n\u001b[1;32m     27\u001b[0m dev_label \u001b[39m=\u001b[39m [labels[idx] \u001b[39mfor\u001b[39;00m idx \u001b[39min\u001b[39;00m dev_idx]\n\u001b[1;32m     29\u001b[0m \u001b[39m# Convert text data to word vectors\u001b[39;00m\n\u001b[0;32m---> 30\u001b[0m train_vectors \u001b[39m=\u001b[39m np\u001b[39m.\u001b[39marray([\u001b[39mself\u001b[39m\u001b[39m.\u001b[39membedding_model\u001b[39m.\u001b[39mtext_to_vector(item[\u001b[39m\"\u001b[39;49m\u001b[39mdata\u001b[39;49m\u001b[39m\"\u001b[39;49m]) \u001b[39mfor\u001b[39;00m item \u001b[39min\u001b[39;00m train_data])\n\u001b[1;32m     31\u001b[0m \u001b[39mprint\u001b[39m(train_vectors[\u001b[39m0\u001b[39m])\n\u001b[1;32m     32\u001b[0m dev_vectors \u001b[39m=\u001b[39m np\u001b[39m.\u001b[39marray([\u001b[39mself\u001b[39m\u001b[39m.\u001b[39membedding_model\u001b[39m.\u001b[39mtext_to_vector(item[\u001b[39m\"\u001b[39m\u001b[39mdata\u001b[39m\u001b[39m\"\u001b[39m]) \u001b[39mfor\u001b[39;00m item \u001b[39min\u001b[39;00m dev_data])\n",
      "\u001b[0;31mKeyError\u001b[0m: 'data'"
     ]
    }
   ],
   "source": [
    "svm_kftest = KFoldTest(embedding_model=embedding_model, classify_model=svm_rbf)\n",
    "svm_kftest.run(data)"
   ]
  }
 ],
 "metadata": {
  "kernelspec": {
   "display_name": "nlp",
   "language": "python",
   "name": "python3"
  },
  "language_info": {
   "codemirror_mode": {
    "name": "ipython",
    "version": 3
   },
   "file_extension": ".py",
   "mimetype": "text/x-python",
   "name": "python",
   "nbconvert_exporter": "python",
   "pygments_lexer": "ipython3",
   "version": "3.11.4"
  },
  "orig_nbformat": 4
 },
 "nbformat": 4,
 "nbformat_minor": 2
}
