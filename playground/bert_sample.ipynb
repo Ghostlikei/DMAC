{
 "cells": [
  {
   "cell_type": "code",
   "execution_count": 2,
   "metadata": {},
   "outputs": [
    {
     "name": "stderr",
     "output_type": "stream",
     "text": [
      "/opt/homebrew/anaconda3/envs/nlp/lib/python3.11/site-packages/tqdm/auto.py:21: TqdmWarning: IProgress not found. Please update jupyter and ipywidgets. See https://ipywidgets.readthedocs.io/en/stable/user_install.html\n",
      "  from .autonotebook import tqdm as notebook_tqdm\n",
      "Downloading (…)solve/main/vocab.txt: 100%|██████████| 232k/232k [00:00<00:00, 654kB/s]\n",
      "Downloading (…)okenizer_config.json: 100%|██████████| 28.0/28.0 [00:00<00:00, 129kB/s]\n",
      "Downloading (…)lve/main/config.json: 100%|██████████| 570/570 [00:00<00:00, 4.35MB/s]\n",
      "Downloading model.safetensors: 100%|██████████| 440M/440M [03:01<00:00, 2.42MB/s] \n"
     ]
    },
    {
     "name": "stdout",
     "output_type": "stream",
     "text": [
      "tensor([[[-3.5934e-01,  8.4391e-05, -9.9379e-02,  ..., -4.9045e-01,\n",
      "           5.0002e-01,  5.3392e-01],\n",
      "         [-7.9022e-01, -2.0682e-01, -3.1575e-01,  ..., -2.6945e-01,\n",
      "           7.1276e-01, -2.3166e-01],\n",
      "         [ 2.3538e-01, -4.2765e-01, -2.3054e-01,  ..., -1.5081e-01,\n",
      "           4.4935e-01,  1.2215e-01],\n",
      "         ...,\n",
      "         [ 1.0782e-01,  2.0137e-01,  2.5300e-01,  ..., -1.8092e-01,\n",
      "           1.0061e+00,  3.1536e-01],\n",
      "         [-9.4830e-03,  2.0355e-01,  9.0695e-02,  ..., -1.0768e-01,\n",
      "           3.6926e-01, -3.9114e-01],\n",
      "         [ 7.1950e-01,  3.0419e-01, -2.1150e-01,  ...,  3.4513e-01,\n",
      "          -5.0399e-01, -7.3556e-02]]])\n"
     ]
    }
   ],
   "source": [
    "from transformers import BertTokenizer, BertModel\n",
    "import torch\n",
    "\n",
    "tokenizer = BertTokenizer.from_pretrained('bert-base-uncased')\n",
    "\n",
    "\n",
    "text = \"[CLS] Who was Jim Henson ? [SEP] Jim Henson was a puppeteer [SEP]\"\n",
    "\n",
    "tokens = tokenizer.tokenize(text)\n",
    "indexed_tokens = tokenizer.convert_tokens_to_ids(tokens)\n",
    "\n",
    "# tokens torch tensors\n",
    "tokens_tensor = torch.tensor([indexed_tokens])\n",
    "\n",
    "model = BertModel.from_pretrained('bert-base-uncased')\n",
    "\n",
    "with torch.no_grad():\n",
    "    outputs = model(tokens_tensor)\n",
    "    hidden_states = outputs.last_hidden_state\n",
    "    \n",
    "print(hidden_states)"
   ]
  }
 ],
 "metadata": {
  "kernelspec": {
   "display_name": "nlp",
   "language": "python",
   "name": "python3"
  },
  "language_info": {
   "codemirror_mode": {
    "name": "ipython",
    "version": 3
   },
   "file_extension": ".py",
   "mimetype": "text/x-python",
   "name": "python",
   "nbconvert_exporter": "python",
   "pygments_lexer": "ipython3",
   "version": "3.11.4"
  },
  "orig_nbformat": 4
 },
 "nbformat": 4,
 "nbformat_minor": 2
}
