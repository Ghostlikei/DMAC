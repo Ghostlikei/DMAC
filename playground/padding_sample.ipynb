{
 "cells": [
  {
   "cell_type": "code",
   "execution_count": 2,
   "metadata": {},
   "outputs": [
    {
     "name": "stdout",
     "output_type": "stream",
     "text": [
      "[[1 2 0 ... 0 0 0]\n",
      " [2 3 0 ... 0 0 0]\n",
      " [3 4 0 ... 0 0 0]\n",
      " ...\n",
      " [0 0 0 ... 0 0 0]\n",
      " [0 0 0 ... 0 0 0]\n",
      " [0 0 0 ... 0 0 0]]\n"
     ]
    }
   ],
   "source": [
    "import numpy as np\n",
    "\n",
    "# Define the desired sequence length\n",
    "max_seq_length = 100\n",
    "\n",
    "# Example sequence (replace this with your actual sequences)\n",
    "sequence = [[1, 2], [2, 3], [3, 4], [4, 5], [5, 6]]\n",
    "\n",
    "# Calculate the amount of padding needed\n",
    "padding_length = max_seq_length - len(sequence)\n",
    "\n",
    "# Pad the sequence with zeros to the desired length\n",
    "padded_sequence = np.pad(sequence, (0, padding_length), 'constant')\n",
    "\n",
    "print(padded_sequence)\n"
   ]
  }
 ],
 "metadata": {
  "kernelspec": {
   "display_name": "nlp",
   "language": "python",
   "name": "python3"
  },
  "language_info": {
   "codemirror_mode": {
    "name": "ipython",
    "version": 3
   },
   "file_extension": ".py",
   "mimetype": "text/x-python",
   "name": "python",
   "nbconvert_exporter": "python",
   "pygments_lexer": "ipython3",
   "version": "3.11.4"
  },
  "orig_nbformat": 4
 },
 "nbformat": 4,
 "nbformat_minor": 2
}
