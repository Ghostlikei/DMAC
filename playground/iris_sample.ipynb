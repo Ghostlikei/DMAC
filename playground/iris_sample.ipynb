{
 "cells": [
  {
   "attachments": {},
   "cell_type": "markdown",
   "metadata": {},
   "source": [
    "- Iris sample code for multiclass SVM classification\n",
    "\n",
    "https://www.baeldung.com/cs/svm-multiclass-classification"
   ]
  },
  {
   "cell_type": "code",
   "execution_count": 2,
   "metadata": {},
   "outputs": [],
   "source": [
    "from sklearn import svm, datasets\n",
    "import sklearn.model_selection as model_selection\n",
    "from sklearn.metrics import accuracy_score\n",
    "from sklearn.metrics import f1_score"
   ]
  },
  {
   "cell_type": "code",
   "execution_count": 3,
   "metadata": {},
   "outputs": [],
   "source": [
    "iris = datasets.load_iris()"
   ]
  },
  {
   "cell_type": "code",
   "execution_count": 4,
   "metadata": {},
   "outputs": [
    {
     "name": "stdout",
     "output_type": "stream",
     "text": [
      "[[6.5 3. ]\n",
      " [5.5 2.5]\n",
      " [6.5 3. ]\n",
      " [5.8 2.7]\n",
      " [6.8 3. ]\n",
      " [5.7 2.8]\n",
      " [6.7 3.1]\n",
      " [5.9 3. ]\n",
      " [5.6 2.7]\n",
      " [7.7 3. ]\n",
      " [5.1 3.7]\n",
      " [4.6 3.6]\n",
      " [4.7 3.2]\n",
      " [6.7 3. ]\n",
      " [5.6 3. ]\n",
      " [4.3 3. ]\n",
      " [7.1 3. ]\n",
      " [5.8 2.7]\n",
      " [4.9 3.1]\n",
      " [5.1 2.5]\n",
      " [5.6 2.5]\n",
      " [5.1 3.3]\n",
      " [5.8 2.7]\n",
      " [5.  3.6]\n",
      " [4.9 2.4]\n",
      " [6.7 2.5]\n",
      " [5.8 2.6]\n",
      " [4.9 3.6]\n",
      " [5.1 3.4]\n",
      " [6.1 3. ]\n",
      " [4.6 3.4]\n",
      " [6.4 3.2]\n",
      " [7.7 2.6]\n",
      " [6.3 3.4]\n",
      " [5.4 3. ]\n",
      " [5.8 4. ]\n",
      " [6.  2.9]\n",
      " [4.6 3.1]\n",
      " [5.8 2.7]\n",
      " [6.9 3.2]\n",
      " [6.  3.4]\n",
      " [6.2 3.4]\n",
      " [6.6 2.9]\n",
      " [6.3 3.3]\n",
      " [4.7 3.2]\n",
      " [4.8 3. ]\n",
      " [4.9 3.1]\n",
      " [6.5 2.8]\n",
      " [4.6 3.2]\n",
      " [5.1 3.8]\n",
      " [5.  3.4]\n",
      " [7.4 2.8]\n",
      " [5.2 3.5]\n",
      " [5.4 3.4]\n",
      " [6.  3. ]\n",
      " [6.2 2.8]\n",
      " [4.8 3.1]\n",
      " [5.  3.2]\n",
      " [7.2 3.2]\n",
      " [7.2 3.6]\n",
      " [5.7 2.5]\n",
      " [4.8 3.4]\n",
      " [5.7 2.6]\n",
      " [6.8 3.2]\n",
      " [5.1 3.5]\n",
      " [4.8 3. ]\n",
      " [6.  2.2]\n",
      " [6.4 2.8]\n",
      " [5.7 4.4]\n",
      " [6.1 2.8]\n",
      " [5.7 3.8]\n",
      " [4.9 2.5]\n",
      " [7.7 3.8]\n",
      " [4.4 3. ]\n",
      " [6.3 2.9]\n",
      " [6.3 3.3]\n",
      " [6.9 3.1]\n",
      " [6.7 3.3]\n",
      " [5.  3.4]\n",
      " [6.9 3.1]\n",
      " [5.2 3.4]\n",
      " [5.7 2.8]\n",
      " [6.3 2.8]\n",
      " [5.5 3.5]\n",
      " [6.  2.2]\n",
      " [4.4 2.9]\n",
      " [6.7 3.1]\n",
      " [6.1 2.8]\n",
      " [7.6 3. ]\n",
      " [5.1 3.5]\n",
      " [6.7 3.3]\n",
      " [7.3 2.9]\n",
      " [5.9 3. ]\n",
      " [6.8 2.8]\n",
      " [5.4 3.7]\n",
      " [5.1 3.8]\n",
      " [5.6 2.8]\n",
      " [6.3 2.5]\n",
      " [5.1 3.8]\n",
      " [5.2 2.7]\n",
      " [7.9 3.8]\n",
      " [6.4 3.2]\n",
      " [6.4 2.7]\n",
      " [6.  2.7]\n",
      " [5.  3.3]\n",
      " [6.9 3.1]\n",
      " [5.4 3.9]\n",
      " [6.5 3.2]\n",
      " [5.  2. ]\n",
      " [6.7 3. ]\n",
      " [6.4 2.8]\n",
      " [5.  3.5]\n",
      " [6.4 3.1]\n",
      " [6.6 3. ]\n",
      " [6.3 2.3]\n",
      " [6.1 2.9]\n",
      " [5.9 3.2]\n",
      " [5.5 2.4]\n",
      " [4.8 3.4]\n",
      " [5.7 3. ]]\n"
     ]
    }
   ],
   "source": [
    "X = iris.data[:, :2]\n",
    "y = iris.target\n",
    "X_train, X_test, y_train, y_test = model_selection.train_test_split(X, y, train_size=0.80, test_size=0.20, random_state=101)\n",
    "\n",
    "print(X_train)"
   ]
  },
  {
   "cell_type": "code",
   "execution_count": 7,
   "metadata": {},
   "outputs": [],
   "source": [
    "rbf = svm.SVC(kernel='rbf', gamma=0.5, C=0.1).fit(X_train, y_train)\n",
    "poly = svm.SVC(kernel='poly', degree=3, C=1).fit(X_train, y_train)\n"
   ]
  },
  {
   "cell_type": "code",
   "execution_count": 8,
   "metadata": {},
   "outputs": [],
   "source": [
    "poly_pred = poly.predict(X_test)\n",
    "rbf_pred = rbf.predict(X_test)\n"
   ]
  },
  {
   "cell_type": "code",
   "execution_count": 9,
   "metadata": {},
   "outputs": [
    {
     "name": "stdout",
     "output_type": "stream",
     "text": [
      "Accuracy (Polynomial Kernel):  70.00\n",
      "F1 (Polynomial Kernel):  69.67\n"
     ]
    }
   ],
   "source": [
    "poly_accuracy = accuracy_score(y_test, poly_pred)\n",
    "poly_f1 = f1_score(y_test, poly_pred, average='weighted')\n",
    "print('Accuracy (Polynomial Kernel): ', \"%.2f\" % (poly_accuracy*100))\n",
    "print('F1 (Polynomial Kernel): ', \"%.2f\" % (poly_f1*100))"
   ]
  }
 ],
 "metadata": {
  "kernelspec": {
   "display_name": "nlp",
   "language": "python",
   "name": "python3"
  },
  "language_info": {
   "codemirror_mode": {
    "name": "ipython",
    "version": 3
   },
   "file_extension": ".py",
   "mimetype": "text/x-python",
   "name": "python",
   "nbconvert_exporter": "python",
   "pygments_lexer": "ipython3",
   "version": "3.11.4"
  },
  "orig_nbformat": 4
 },
 "nbformat": 4,
 "nbformat_minor": 2
}
